{
 "cells": [
  {
   "cell_type": "code",
   "execution_count": 127,
   "metadata": {
    "ExecuteTime": {
     "end_time": "2018-08-17T23:31:07.994596Z",
     "start_time": "2018-08-17T23:31:07.990068Z"
    },
    "scrolled": true
   },
   "outputs": [
    {
     "name": "stdout",
     "output_type": "stream",
     "text": [
      "Overwriting json-to-csv.py\n"
     ]
    }
   ],
   "source": [
    "%%writefile json-to-csv.py\n",
    "import json\n",
    "import pandas as pd\n",
    "import argparse as ap\n",
    "import os\n",
    "\n",
    "parser = ap.ArgumentParser()\n",
    "parser.add_argument('json_path', help='path to json file to be converted')\n",
    "parser.add_argument('csv_path', help='path to csv file to be converted')\n",
    "\n",
    "args = parser.parse_args()\n",
    "json_path = args.json_path\n",
    "csv_path = args.csv_path\n",
    "\n",
    "csv_dirname = os.path.dirname(csv_path)\n",
    "if not os.path.isdir(csv_dirname):\n",
    "    os.makedirs(csv_dirname)\n",
    "\n",
    "with open(json_path) as f:\n",
    "    tweets = json.load(f)\n",
    "\n",
    "tweets_df = pd.DataFrame(tweets)\n",
    "tweets_df = tweets_df.drop(['html', 'id', 'url'], axis='columns')\n",
    "tweets_df['timestamp'] = pd.to_datetime(tweets_df['timestamp'])\n",
    "tweets_df.to_csv(csv_path, index=False)"
   ]
  },
  {
   "cell_type": "code",
   "execution_count": null,
   "metadata": {
    "collapsed": true
   },
   "outputs": [],
   "source": []
  }
 ],
 "metadata": {
  "kernelspec": {
   "display_name": "Python 3",
   "language": "python",
   "name": "python3"
  },
  "language_info": {
   "codemirror_mode": {
    "name": "ipython",
    "version": 3
   },
   "file_extension": ".py",
   "mimetype": "text/x-python",
   "name": "python",
   "nbconvert_exporter": "python",
   "pygments_lexer": "ipython3",
   "version": "3.6.3"
  },
  "varInspector": {
   "cols": {
    "lenName": 16,
    "lenType": 16,
    "lenVar": 40
   },
   "kernels_config": {
    "python": {
     "delete_cmd_postfix": "",
     "delete_cmd_prefix": "del ",
     "library": "var_list.py",
     "varRefreshCmd": "print(var_dic_list())"
    },
    "r": {
     "delete_cmd_postfix": ") ",
     "delete_cmd_prefix": "rm(",
     "library": "var_list.r",
     "varRefreshCmd": "cat(var_dic_list()) "
    }
   },
   "types_to_exclude": [
    "module",
    "function",
    "builtin_function_or_method",
    "instance",
    "_Feature"
   ],
   "window_display": false
  }
 },
 "nbformat": 4,
 "nbformat_minor": 2
}
