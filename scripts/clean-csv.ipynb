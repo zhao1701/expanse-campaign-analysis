{
 "cells": [
  {
   "cell_type": "code",
   "execution_count": 4,
   "metadata": {
    "ExecuteTime": {
     "end_time": "2018-08-22T19:10:44.685163Z",
     "start_time": "2018-08-22T19:10:44.679146Z"
    }
   },
   "outputs": [
    {
     "name": "stdout",
     "output_type": "stream",
     "text": [
      "Overwriting clean-csv.py\n"
     ]
    }
   ],
   "source": [
    "%%writefile clean-csv.py\n",
    "\n",
    "import csv\n",
    "import re\n",
    "\n",
    "import numpy as np\n",
    "import pandas as pd\n",
    "import itertools as it\n",
    "import argparse as ap\n",
    "\n",
    "# Parse arguments\n",
    "parser = ap.ArgumentParser()\n",
    "parser.add_argument('-i', '--input_csv', help='path to csv to be cleaned')\n",
    "parser.add_argument('-o', '--output_csv', help='path to csv to be created')\n",
    "args = parser.parse_args()\n",
    "\n",
    "input_csv = args.input_csv\n",
    "output_csv = args.output_csv\n",
    "\n",
    "with open(input_csv, 'rt') as f:\n",
    "    data = f.readlines()\n",
    "\n",
    "# Remove unnecessasary double quotes\n",
    "new_rows = list()\n",
    "for row in data:\n",
    "    matches = list(re.finditer(r'\"', row))\n",
    "    if len(matches) > 4:\n",
    "        indices = [match.start() for match in matches[1:-3]]\n",
    "        indices = [-1] + indices + [len(row)]\n",
    "        new_row = ''\n",
    "        for i in range(len(indices)-1):\n",
    "            new_row = new_row + row[indices[i]+1:indices[i+1]]\n",
    "        new_rows.append(new_row)\n",
    "    else:\n",
    "        new_rows.append(row)\n",
    "\n",
    "# Output temporary csv\n",
    "with open(output_csv, 'wt') as f:\n",
    "    f.writelines(new_rows)\n",
    "    \n",
    "def repair_tweet(tweet):\n",
    "    tweet = re.sub('# ', '#', tweet)\n",
    "    tweet = re.sub('@ ', '@', tweet)\n",
    "    return tweet\n",
    "\n",
    "# Combine @'s and #'s with respective text\n",
    "df = pd.read_csv(output_csv, delimiter=';')\n",
    "df = df.drop(['geo', 'mentions', 'hashtags', 'id', 'permalink'], axis='columns')\n",
    "df.columns = ['user', 'timestamp', 'retweets', 'likes', 'text']\n",
    "df['text'] = df['text'].apply(repair_tweet)\n",
    "\n",
    "# Save output csv\n",
    "df.to_csv(output_csv, index=False)"
   ]
  },
  {
   "cell_type": "code",
   "execution_count": null,
   "metadata": {
    "collapsed": true
   },
   "outputs": [],
   "source": []
  }
 ],
 "metadata": {
  "kernelspec": {
   "display_name": "Python-3.6",
   "language": "python",
   "name": "python-3.6"
  },
  "language_info": {
   "codemirror_mode": {
    "name": "ipython",
    "version": 3
   },
   "file_extension": ".py",
   "mimetype": "text/x-python",
   "name": "python",
   "nbconvert_exporter": "python",
   "pygments_lexer": "ipython3",
   "version": "3.6.3"
  },
  "varInspector": {
   "cols": {
    "lenName": 16,
    "lenType": 16,
    "lenVar": 40
   },
   "kernels_config": {
    "python": {
     "delete_cmd_postfix": "",
     "delete_cmd_prefix": "del ",
     "library": "var_list.py",
     "varRefreshCmd": "print(var_dic_list())"
    },
    "r": {
     "delete_cmd_postfix": ") ",
     "delete_cmd_prefix": "rm(",
     "library": "var_list.r",
     "varRefreshCmd": "cat(var_dic_list()) "
    }
   },
   "types_to_exclude": [
    "module",
    "function",
    "builtin_function_or_method",
    "instance",
    "_Feature"
   ],
   "window_display": false
  }
 },
 "nbformat": 4,
 "nbformat_minor": 2
}
