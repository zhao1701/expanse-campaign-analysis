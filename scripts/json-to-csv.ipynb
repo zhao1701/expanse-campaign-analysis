{
 "cells": [
  {
   "cell_type": "code",
   "execution_count": 116,
   "metadata": {
    "ExecuteTime": {
     "end_time": "2018-08-17T23:18:25.439067Z",
     "start_time": "2018-08-17T23:18:25.433817Z"
    },
    "run_control": {
     "marked": true
    },
    "scrolled": false
   },
   "outputs": [
    {
     "name": "stdout",
     "output_type": "stream",
     "text": [
      "Writing json-to-csv.py\n"
     ]
    }
   ],
   "source": [
    "%%writefile json-to-csv.py\n",
    "import json\n",
    "import pandas as pd\n",
    "import argparse as ap\n",
    "\n",
    "with open('save-the-expanse.json') as f:\n",
    "    tweets = json.load(f)\n",
    "\n",
    "tweets_df = pd.DataFrame(tweets)\n",
    "tweets_df = tweets_df.drop(['html', 'id', 'url'], axis='columns')\n",
    "tweets_df['timestamp'] = pd.to_datetime(tweets_df['timestamp'])\n",
    "tweets_df.to_csv('save-the-expanse.csv', index=False)"
   ]
  }
 ],
 "metadata": {
  "kernelspec": {
   "display_name": "Python 3",
   "language": "python",
   "name": "python3"
  },
  "language_info": {
   "codemirror_mode": {
    "name": "ipython",
    "version": 3
   },
   "file_extension": ".py",
   "mimetype": "text/x-python",
   "name": "python",
   "nbconvert_exporter": "python",
   "pygments_lexer": "ipython3",
   "version": "3.6.3"
  },
  "varInspector": {
   "cols": {
    "lenName": 16,
    "lenType": 16,
    "lenVar": 40
   },
   "kernels_config": {
    "python": {
     "delete_cmd_postfix": "",
     "delete_cmd_prefix": "del ",
     "library": "var_list.py",
     "varRefreshCmd": "print(var_dic_list())"
    },
    "r": {
     "delete_cmd_postfix": ") ",
     "delete_cmd_prefix": "rm(",
     "library": "var_list.r",
     "varRefreshCmd": "cat(var_dic_list()) "
    }
   },
   "types_to_exclude": [
    "module",
    "function",
    "builtin_function_or_method",
    "instance",
    "_Feature"
   ],
   "window_display": false
  }
 },
 "nbformat": 4,
 "nbformat_minor": 2
}
